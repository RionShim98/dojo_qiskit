{
 "cells": [
  {
   "cell_type": "code",
   "execution_count": null,
   "metadata": {},
   "outputs": [],
   "source": [
    "#!pip install qiskit"
   ]
  },
  {
   "cell_type": "code",
   "execution_count": 1,
   "metadata": {
    "colab": {},
    "colab_type": "code",
    "id": "JB8rfY4xl1_D"
   },
   "outputs": [],
   "source": [
    "import numpy as np\n",
    "import matplotlib.pyplot as plt\n",
    "from scipy.optimize import minimize\n",
    "from qiskit.quantum_info import Pauli\n",
    "from qiskit import IBMQ, QuantumCircuit, execute, Aer\n",
    "from qiskit.visualization import plot_histogram\n",
    "%matplotlib inline"
   ]
  },
  {
   "cell_type": "code",
   "execution_count": 2,
   "metadata": {
    "colab": {},
    "colab_type": "code",
    "id": "zEisBck2l1_H"
   },
   "outputs": [],
   "source": [
    "n=4\n",
    "\n",
    "cost_obs_matrix=np.zeros((2**n,2**n),dtype=\"complex128\")\n",
    "for i in range(n):\n",
    "    z=[False]*n\n",
    "    z[i]=True\n",
    "    z[(i+1)%n]=True\n",
    "    cost_obs_matrix += Pauli(np.flip(z),[False]*n).to_matrix() * 0.5"
   ]
  },
  {
   "cell_type": "code",
   "execution_count": 3,
   "metadata": {
    "colab": {
     "base_uri": "https://localhost:8080/",
     "height": 52
    },
    "colab_type": "code",
    "executionInfo": {
     "elapsed": 2708,
     "status": "ok",
     "timestamp": 1592184573337,
     "user": {
      "displayName": "島津利音",
      "photoUrl": "",
      "userId": "05283225908521937995"
     },
     "user_tz": -540
    },
    "id": "IeEAEbARl1_K",
    "outputId": "616587b5-35fd-45a5-9b15-2272d1c74441"
   },
   "outputs": [
    {
     "name": "stdout",
     "output_type": "stream",
     "text": [
      "-1.99999962236523\n",
      "[1.01150163 1.11872823 0.45213228 0.55937865]\n"
     ]
    }
   ],
   "source": [
    "def add_U_C(circuit,gamma):\n",
    "    for i in range(n):\n",
    "        j = (i+1) % n\n",
    "        circuit.cx(i,j)\n",
    "        circuit.rz(2*gamma,j)\n",
    "        circuit.cx(i,j)\n",
    "    return circuit\n",
    "\n",
    "def add_U_X(circuit,beta):\n",
    "    for i in range(n):\n",
    "        circuit.rx(2*beta,i)\n",
    "    return circuit\n",
    "\n",
    "def QAOA_output_twolayer(x):\n",
    "    beta0, beta1, gamma0, gamma1 = x\n",
    "    \n",
    "    circuit = QuantumCircuit(n)\n",
    "    \n",
    "    for i in range(n):\n",
    "        circuit.h(i)\n",
    "\n",
    "    circuit =  add_U_C(circuit,gamma0)\n",
    "    circuit =  add_U_X(circuit,beta0)\n",
    "    circuit =  add_U_C(circuit,gamma1)\n",
    "    circuit =  add_U_X(circuit,beta1)\n",
    "       \n",
    "    backend=Aer.get_backend(\"statevector_simulator\")\n",
    "    state=execute(circuit,backend).result().get_statevector()\n",
    "    cost=np.dot(state.conj(),np.dot(cost_obs_matrix,state))\n",
    "    return np.real(cost)\n",
    "\n",
    "x0=np.array([0.1,0.1,0.2,0.3])\n",
    "\n",
    "result = minimize(QAOA_output_twolayer, x0, options={'maxiter':500}, method='powell')\n",
    "print(result.fun)\n",
    "print(result.x)"
   ]
  },
  {
   "cell_type": "code",
   "execution_count": 4,
   "metadata": {
    "colab": {
     "base_uri": "https://localhost:8080/",
     "height": 334
    },
    "colab_type": "code",
    "executionInfo": {
     "elapsed": 849,
     "status": "ok",
     "timestamp": 1592184575064,
     "user": {
      "displayName": "島津利音",
      "photoUrl": "",
      "userId": "05283225908521937995"
     },
     "user_tz": -540
    },
    "id": "ISG-7wyal1_O",
    "outputId": "fb5dfdad-e0b5-4f10-b652-140031e65625"
   },
   "outputs": [
    {
     "data": {
      "image/png": "[encoded data removed]",
      "text/plain": [
       "<Figure size 720x360 with 1 Axes>"
      ]
     },
     "metadata": {
      "needs_background": "light"
     },
     "output_type": "display_data"
    }
   ],
   "source": [
    "beta0, beta1, gamma0, gamma1 = result.x\n",
    "\n",
    "circuit = QuantumCircuit(n)\n",
    "\n",
    "for i in range(n):\n",
    "    circuit.h(i)\n",
    "circuit =  add_U_C(circuit,gamma0)\n",
    "circuit =  add_U_X(circuit,beta0)\n",
    "circuit =  add_U_C(circuit,gamma1)\n",
    "circuit =  add_U_X(circuit,beta1)\n",
    "\n",
    "backend=Aer.get_backend(\"statevector_simulator\")\n",
    "state=execute(circuit,backend).result().get_statevector()\n",
    "\n",
    "probs=np.abs(state)**2\n",
    "\n",
    "z_basis = [format(i,\"b\").zfill(n) for i in range(probs.size)]\n",
    "plt.figure(figsize=(10, 5))\n",
    "plt.xlabel(\"states\")\n",
    "plt.ylabel(\"probability(%)\")\n",
    "plt.bar(z_basis, probs*100)\n",
    "plt.show()"
   ]
  },
  {
   "cell_type": "markdown",
   "metadata": {
    "colab_type": "text",
    "id": "3dn41oocmKEv"
   },
   "source": [
    "実機で上のセルと同様の計算をする"
   ]
  },
  {
   "cell_type": "code",
   "execution_count": 5,
   "metadata": {
    "colab": {},
    "colab_type": "code",
    "id": "OQ8fV3ccn_hy"
   },
   "outputs": [],
   "source": [
    "IBMQ.save_account(\"Your Token Here\",overwrite=True) # Replace \"Your Token Here\" to your token"
   ]
  },
  {
   "cell_type": "code",
   "execution_count": 6,
   "metadata": {
    "colab": {},
    "colab_type": "code",
    "id": "e3d_2UJJoFeS"
   },
   "outputs": [],
   "source": [
    "provider=IBMQ.load_account()"
   ]
  },
  {
   "cell_type": "code",
   "execution_count": 7,
   "metadata": {
    "colab": {
     "base_uri": "https://localhost:8080/",
     "height": 348
    },
    "colab_type": "code",
    "executionInfo": {
     "elapsed": 34988,
     "status": "ok",
     "timestamp": 1592186030271,
     "user": {
      "displayName": "島津利音",
      "photoUrl": "",
      "userId": "05283225908521937995"
     },
     "user_tz": -540
    },
    "id": "VlJ_0cgjl1_R",
    "outputId": "2c7e4db5-933a-4336-c018-0864c65d8239"
   },
   "outputs": [
    {
     "data": {
      "image/png": "[encoded data removed]",
      "text/plain": [
       "<Figure size 504x360 with 1 Axes>"
      ]
     },
     "execution_count": 7,
     "metadata": {},
     "output_type": "execute_result"
    }
   ],
   "source": [
    "circuit = QuantumCircuit(n,n) # classical register を追加\n",
    "\n",
    "for i in range(n):\n",
    "    circuit.h(i)\n",
    "circuit =  add_U_C(circuit,gamma0)\n",
    "circuit =  add_U_X(circuit,beta0)\n",
    "circuit =  add_U_C(circuit,gamma1)\n",
    "circuit =  add_U_X(circuit,beta1)\n",
    "\n",
    "for i in range(n):\n",
    "    circuit.measure(i,i)\n",
    "\n",
    "backend=provider.get_backend(\"ibmq_ourense\")\n",
    "counts=execute(circuit,backend,shots=8192).result().get_counts(circuit)\n",
    "plot_histogram(counts)"
   ]
  },
  {
   "cell_type": "code",
   "execution_count": 0,
   "metadata": {
    "colab": {},
    "colab_type": "code",
    "id": "yEE184--qC5f"
   },
   "outputs": [],
   "source": []
  }
 ],
 "metadata": {
  "colab": {
   "collapsed_sections": [],
   "name": "5_3_QAOA.ipynb",
   "provenance": []
  },
  "kernelspec": {
   "display_name": "Python 3",
   "language": "python",
   "name": "python3"
  },
  "language_info": {
   "codemirror_mode": {
    "name": "ipython",
    "version": 3
   },
   "file_extension": ".py",
   "mimetype": "text/x-python",
   "name": "python",
   "nbconvert_exporter": "python",
   "pygments_lexer": "ipython3",
   "version": "3.7.7"
  }
 },
 "nbformat": 4,
 "nbformat_minor": 1
}
