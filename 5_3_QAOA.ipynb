{
 "cells": [
  {
   "cell_type": "code",
   "execution_count": 1,
   "metadata": {},
   "outputs": [],
   "source": [
    "import numpy as np\n",
    "import matplotlib.pyplot as plt\n",
    "from scipy.optimize import minimize\n",
    "from qiskit.quantum_info import Pauli\n",
    "from qiskit import IBMQ, QuantumCircuit, execute, Aer\n",
    "%matplotlib inline"
   ]
  },
  {
   "cell_type": "code",
   "execution_count": 2,
   "metadata": {},
   "outputs": [],
   "source": [
    "n=4\n",
    "\n",
    "cost_obs_matrix=np.zeros((2**n,2**n),dtype=\"complex128\")\n",
    "for i in range(n):\n",
    "    z=[False]*n\n",
    "    z[i]=True\n",
    "    z[(i+1)%n]=True\n",
    "    cost_obs_matrix += Pauli(np.flip(z),[False]*n).to_matrix() * 0.5"
   ]
  },
  {
   "cell_type": "code",
   "execution_count": 3,
   "metadata": {},
   "outputs": [
    {
     "name": "stdout",
     "output_type": "stream",
     "text": [
      "-1.99999962236523\n",
      "[1.01150163 1.11872823 0.45213228 0.55937865]\n"
     ]
    }
   ],
   "source": [
    "def add_U_C(circuit,gamma):\n",
    "    for i in range(n):\n",
    "        j = (i+1) % n\n",
    "        circuit.cx(i,j)\n",
    "        circuit.rz(2*gamma,j)\n",
    "        circuit.cx(i,j)\n",
    "    return circuit\n",
    "\n",
    "def add_U_X(circuit,beta):\n",
    "    for i in range(n):\n",
    "        circuit.rx(2*beta,i)\n",
    "    return circuit\n",
    "\n",
    "def QAOA_output_twolayer(x):\n",
    "    beta0, beta1, gamma0, gamma1 = x\n",
    "    \n",
    "    circuit = QuantumCircuit(n)\n",
    "    \n",
    "    for i in range(n):\n",
    "        circuit.h(i)\n",
    "\n",
    "    circuit =  add_U_C(circuit,gamma0)\n",
    "    circuit =  add_U_X(circuit,beta0)\n",
    "    circuit =  add_U_C(circuit,gamma1)\n",
    "    circuit =  add_U_X(circuit,beta1)\n",
    "       \n",
    "    backend=Aer.get_backend(\"statevector_simulator\")\n",
    "    state=execute(circuit,backend).result().get_statevector()\n",
    "    cost=np.dot(state.conj(),np.dot(cost_obs_matrix,state))\n",
    "    return np.real(cost)\n",
    "\n",
    "x0=np.array([0.1,0.1,0.2,0.3])\n",
    "\n",
    "result = minimize(QAOA_output_twolayer, x0, options={'maxiter':500}, method='powell')\n",
    "print(result.fun)\n",
    "print(result.x)"
   ]
  },
  {
   "cell_type": "code",
   "execution_count": 4,
   "metadata": {},
   "outputs": [
    {
     "data": {
      "image/png": "[encoded data removed]",
      "text/plain": [
       "<Figure size 720x360 with 1 Axes>"
      ]
     },
     "metadata": {
      "needs_background": "light"
     },
     "output_type": "display_data"
    }
   ],
   "source": [
    "beta0, beta1, gamma0, gamma1 = result.x\n",
    "\n",
    "circuit = QuantumCircuit(n)\n",
    "\n",
    "for i in range(n):\n",
    "    circuit.h(i)\n",
    "circuit =  add_U_C(circuit,gamma0)\n",
    "circuit =  add_U_X(circuit,beta0)\n",
    "circuit =  add_U_C(circuit,gamma1)\n",
    "circuit =  add_U_X(circuit,beta1)\n",
    "\n",
    "backend=Aer.get_backend(\"statevector_simulator\")\n",
    "state=execute(circuit,backend).result().get_statevector()\n",
    "\n",
    "probs=np.abs(state)**2\n",
    "\n",
    "z_basis = [format(i,\"b\").zfill(n) for i in range(probs.size)]\n",
    "plt.figure(figsize=(10, 5))\n",
    "plt.xlabel(\"states\")\n",
    "plt.ylabel(\"probability(%)\")\n",
    "plt.bar(z_basis, probs*100)\n",
    "plt.show()"
   ]
  },
  {
   "cell_type": "code",
   "execution_count": null,
   "metadata": {},
   "outputs": [],
   "source": []
  }
 ],
 "metadata": {
  "kernelspec": {
   "display_name": "Python 3",
   "language": "python",
   "name": "python3"
  },
  "language_info": {
   "codemirror_mode": {
    "name": "ipython",
    "version": 3
   },
   "file_extension": ".py",
   "mimetype": "text/x-python",
   "name": "python",
   "nbconvert_exporter": "python",
   "pygments_lexer": "ipython3",
   "version": "3.7.7"
  }
 },
 "nbformat": 4,
 "nbformat_minor": 4
}
