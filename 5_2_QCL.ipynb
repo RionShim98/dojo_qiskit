{
 "cells": [
  {
   "cell_type": "code",
   "execution_count": null,
   "metadata": {},
   "outputs": [],
   "source": [
    "#!pip install qiskit"
   ]
  },
  {
   "cell_type": "code",
   "execution_count": 0,
   "metadata": {
    "colab": {},
    "colab_type": "code",
    "id": "UlUPbeLKkdl-"
   },
   "outputs": [],
   "source": [
    "import numpy as np\n",
    "import matplotlib.pyplot as plt\n",
    "from functools import reduce\n",
    "from scipy.optimize import minimize\n",
    "from qiskit import IBMQ, execute, Aer, QuantumCircuit\n",
    "from qiskit.quantum_info.operators import Operator\n",
    "from qiskit.circuit.library.standard_gates import *\n",
    "%matplotlib inline"
   ]
  },
  {
   "cell_type": "code",
   "execution_count": 0,
   "metadata": {
    "colab": {},
    "colab_type": "code",
    "id": "PBVTI3TskdmM"
   },
   "outputs": [],
   "source": [
    "nqubit = 3 ## qubitの数\n",
    "c_depth = 3 ## circuitの深さ\n",
    "time_step = 0.77  ## ランダムハミルトニアンによる時間発展の経過時間\n",
    "\n",
    "## [x_min, x_max]のうち, ランダムにnum_x_train個の点をとって教師データとする.\n",
    "x_min = - 1.; x_max = 1.;\n",
    "num_x_train = 50\n",
    "\n",
    "## 学習したい1変数関数\n",
    "func_to_learn = lambda x: np.sin(x*np.pi)\n",
    "\n",
    "## 乱数のシード\n",
    "random_seed = 0\n",
    "## 乱数発生器の初期化\n",
    "np.random.seed(random_seed)"
   ]
  },
  {
   "cell_type": "code",
   "execution_count": 0,
   "metadata": {
    "colab": {},
    "colab_type": "code",
    "id": "s4JeKtQgkdmQ",
    "outputId": "7f16c13d-51e5-4b21-a96b-0eee41833b7d"
   },
   "outputs": [
    {
     "data": {
      "image/png": "[encoded data removed]",
      "text/plain": [
       "<Figure size 432x288 with 1 Axes>"
      ]
     },
     "metadata": {
      "needs_background": "light",
      "tags": []
     },
     "output_type": "display_data"
    }
   ],
   "source": [
    "#### 教師データを準備\n",
    "x_train = x_min + (x_max - x_min) * np.random.rand(num_x_train)\n",
    "y_train = func_to_learn(x_train)\n",
    "\n",
    "# 現実のデータを用いる場合を想定し、きれいなsin関数にノイズを付加\n",
    "mag_noise = 0.05\n",
    "y_train = y_train + mag_noise * np.random.randn(num_x_train)\n",
    "\n",
    "plt.plot(x_train, y_train, \"o\"); plt.show()"
   ]
  },
  {
   "cell_type": "code",
   "execution_count": 0,
   "metadata": {
    "colab": {},
    "colab_type": "code",
    "id": "4PgnUQSfkdmV"
   },
   "outputs": [],
   "source": [
    "def U_in(x,circuit):\n",
    "    for i in range(nqubit):\n",
    "        circuit.ry(-np.arcsin(x),i)\n",
    "        circuit.rz(-np.arccos(x**2),i)\n",
    "    return circuit"
   ]
  },
  {
   "cell_type": "code",
   "execution_count": 0,
   "metadata": {
    "colab": {},
    "colab_type": "code",
    "id": "oX5pKfmwkdmY",
    "outputId": "c522073d-ee03-4810-8563-cb77a5344663"
   },
   "outputs": [
    {
     "name": "stdout",
     "output_type": "stream",
     "text": [
      "[ 9.96242934e-01+0.00000000e+00j -4.99373037e-04+4.99348067e-02j\n",
      " -4.99373037e-04+4.99348067e-02j -2.50263813e-03-5.00602719e-05j\n",
      " -4.99373037e-04+4.99348067e-02j -2.50263813e-03-5.00602719e-05j\n",
      " -2.50263813e-03-5.00602719e-05j  3.76364024e-06-1.25414945e-04j]\n"
     ]
    },
    {
     "data": {
      "image/png": "[encoded data removed]",
      "text/plain": [
       "<Figure size 298.592x204.68 with 1 Axes>"
      ]
     },
     "execution_count": 7,
     "metadata": {
      "tags": []
     },
     "output_type": "execute_result"
    }
   ],
   "source": [
    "x = 0.1\n",
    "circuit=QuantumCircuit(nqubit)\n",
    "circuit=U_in(x,circuit)\n",
    "backend=Aer.get_backend(\"statevector_simulator\")\n",
    "print(execute(circuit,backend).result().get_statevector())\n",
    "circuit.draw(\"mpl\")"
   ]
  },
  {
   "cell_type": "code",
   "execution_count": 0,
   "metadata": {
    "colab": {},
    "colab_type": "code",
    "id": "RcQNiS94kdmb"
   },
   "outputs": [],
   "source": [
    "I_mat=np.eye(2,dtype=complex)\n",
    "X_mat=XGate().to_matrix()\n",
    "Z_mat=ZGate().to_matrix()\n",
    "\n",
    "def make_fullgate(list_SiteAndOperator, nqubit):\n",
    "    list_Site= [index[0] for index in list_SiteAndOperator]\n",
    "    list_SingleGates=[]\n",
    "    cnt=0\n",
    "    for i in range(nqubit):\n",
    "        if (i in list_Site):\n",
    "            list_SingleGates.append(list_SiteAndOperator[cnt][1] )\n",
    "            cnt+=1\n",
    "        else:\n",
    "            list_SingleGates.append(I_mat)\n",
    "    return reduce(np.kron, list_SingleGates)\n",
    "\n",
    "ham = np.zeros((2**nqubit,2**nqubit),dtype=complex)\n",
    "\n",
    "for i in range(nqubit):\n",
    "    Jx = -1.0+2.0*np.random.rand()\n",
    "    ham+=Jx*make_fullgate([[i,X_mat]],nqubit)\n",
    "    for j in range(1,nqubit):\n",
    "        J_ij=-1.0+2.0*np.random.rand()\n",
    "        ham+= J_ij*make_fullgate( [[i,Z_mat],[j,Z_mat]],nqubit )"
   ]
  },
  {
   "cell_type": "code",
   "execution_count": 0,
   "metadata": {
    "colab": {},
    "colab_type": "code",
    "id": "MB-uHjMmkdme"
   },
   "outputs": [],
   "source": [
    "diag, eigen_vecs=np.linalg.eigh(ham)\n",
    "time_evol_op=eigen_vecs@np.diag(np.exp(-1j*time_step*diag))@eigen_vecs.T.conj()\n",
    "P=Operator(time_evol_op)"
   ]
  },
  {
   "cell_type": "code",
   "execution_count": 0,
   "metadata": {
    "colab": {},
    "colab_type": "code",
    "id": "UI2qEKG5kdmh"
   },
   "outputs": [],
   "source": [
    "def U_out(circuit, theta):\n",
    "    theta=np.array(theta).reshape(nqubit,c_depth,3)\n",
    "    for d in range(c_depth):\n",
    "        circuit.unitary(P,[i for i in range(nqubit)])\n",
    "        for i in range(nqubit):\n",
    "            circuit.rx(-theta[i,d,0],i)\n",
    "            circuit.rz(-theta[i,d,1],i)\n",
    "            circuit.rx(-theta[i,d,2],i)\n",
    "    return circuit"
   ]
  },
  {
   "cell_type": "code",
   "execution_count": 0,
   "metadata": {
    "colab": {},
    "colab_type": "code",
    "id": "J85nRe3Hkdmk"
   },
   "outputs": [],
   "source": [
    "obs_matrix=ZGate().to_matrix()\n",
    "for i in range(nqubit-1):\n",
    "    obs_matrix=np.kron(np.eye(2),obs_matrix)\n",
    "obs_matrix=2*obs_matrix"
   ]
  },
  {
   "cell_type": "code",
   "execution_count": 0,
   "metadata": {
    "colab": {},
    "colab_type": "code",
    "id": "u3Uq49zRkdmo"
   },
   "outputs": [],
   "source": [
    "def qcl_pred_(x,theta):\n",
    "    circuit=QuantumCircuit(nqubit)\n",
    "    circuit=U_in(x,circuit)\n",
    "    circuit=U_out(circuit,theta)\n",
    "    state=execute(circuit,backend).result().get_statevector()\n",
    "    res=np.dot(state.conj(),np.dot(obs_matrix,state))\n",
    "    return np.real(res)\n",
    "\n",
    "def qcl_pred(x,theta):\n",
    "    circuit=QuantumCircuit(nqubit)\n",
    "\n",
    "    for i in range(nqubit):\n",
    "        circuit.ry(-np.arcsin(x),i)\n",
    "        circuit.rz(-np.arccos(x**2),i)\n",
    "\n",
    "    theta=np.array(theta).reshape(nqubit,c_depth,3)\n",
    "    \n",
    "    for d in range(c_depth):\n",
    "        circuit.unitary(P,[i for i in range(nqubit)])\n",
    "        for i in range(nqubit):\n",
    "            circuit.rx(-theta[i,d,0],i)\n",
    "            circuit.rz(-theta[i,d,1],i)\n",
    "            circuit.rx(-theta[i,d,2],i)\n",
    "\n",
    "    state=execute(circuit,backend).result().get_statevector()\n",
    "    res=np.dot(state.conj(),np.dot(obs_matrix,state))\n",
    "    return np.real(res)"
   ]
  },
  {
   "cell_type": "code",
   "execution_count": 0,
   "metadata": {
    "colab": {},
    "colab_type": "code",
    "id": "yw3wwF46kdmv"
   },
   "outputs": [],
   "source": [
    "def cost_func(theta):\n",
    "    y_pred=[qcl_pred_(x,theta) for x in x_train]    \n",
    "    L=((y_pred-y_train)**2).mean()\n",
    "    return np.real(L)"
   ]
  },
  {
   "cell_type": "code",
   "execution_count": 0,
   "metadata": {
    "colab": {},
    "colab_type": "code",
    "id": "Tr7Xm6JUkdmx"
   },
   "outputs": [],
   "source": [
    "theta=[2.0*np.pi*np.random.rand() for i in range(3*c_depth*nqubit)]"
   ]
  },
  {
   "cell_type": "code",
   "execution_count": 0,
   "metadata": {
    "colab": {},
    "colab_type": "code",
    "id": "rz2FUV9xkdmz",
    "outputId": "f0799960-e7ac-4373-f131-229daa01f954"
   },
   "outputs": [
    {
     "data": {
      "text/plain": [
       "[<matplotlib.lines.Line2D at 0x1b0bb4d7ac8>]"
      ]
     },
     "execution_count": 16,
     "metadata": {
      "tags": []
     },
     "output_type": "execute_result"
    },
    {
     "data": {
      "image/png": "[encoded data removed]",
      "text/plain": [
       "<Figure size 432x288 with 1 Axes>"
      ]
     },
     "metadata": {
      "needs_background": "light",
      "tags": []
     },
     "output_type": "display_data"
    }
   ],
   "source": [
    "xlist = np.arange(x_min, x_max, 0.02)\n",
    "y_init = [qcl_pred(x,theta) for x in xlist]\n",
    "plt.plot(xlist, y_init)"
   ]
  },
  {
   "cell_type": "code",
   "execution_count": 0,
   "metadata": {
    "colab": {},
    "colab_type": "code",
    "id": "qzAyCOJNkdm1"
   },
   "outputs": [],
   "source": [
    "result = minimize(cost_func, theta, method='Nelder-Mead')# this might take hours"
   ]
  },
  {
   "cell_type": "code",
   "execution_count": 0,
   "metadata": {
    "colab": {},
    "colab_type": "code",
    "id": "a_y4zCHzkdm3",
    "outputId": "b07ce7dc-b0f9-43aa-ce21-c00273f7fbc0"
   },
   "outputs": [
    {
     "name": "stdout",
     "output_type": "stream",
     "text": [
      "[4.30322525 0.11859832 1.8539499  2.3119907  2.46811961 4.18575446\n",
      " 1.701256   1.35189007 1.6666271  5.12129705 4.80830791 3.74609623\n",
      " 2.08575811 1.59714725 2.37572293 5.82770984 2.04347677 2.99423919\n",
      " 5.5883891  4.9969435  3.78912903 0.54115376 7.02646341 3.36953774\n",
      " 5.2312333  1.23908659 7.72088925]\n"
     ]
    }
   ],
   "source": [
    "result.fun\n",
    "theta_opt=result.x\n",
    "print(theta_opt)"
   ]
  },
  {
   "cell_type": "code",
   "execution_count": 0,
   "metadata": {
    "colab": {},
    "colab_type": "code",
    "id": "g2SbKhlUkdm5",
    "outputId": "69f36db1-fdbb-4f06-97f1-0286fa9142e0"
   },
   "outputs": [
    {
     "data": {
      "image/png": "[encoded data removed]",
      "text/plain": [
       "<Figure size 720x432 with 1 Axes>"
      ]
     },
     "metadata": {
      "needs_background": "light",
      "tags": []
     },
     "output_type": "display_data"
    }
   ],
   "source": [
    "plt.figure(figsize=(10, 6))\n",
    "xlist = np.arange(x_min, x_max, 0.02)\n",
    "\n",
    "plt.plot(x_train, y_train, \"o\", label='Teacher')\n",
    "plt.plot(xlist, y_init, '--', label='Initial Model Prediction', c='gray')\n",
    "\n",
    "y_pred = np.array([qcl_pred(x, theta_opt) for x in xlist])\n",
    "plt.plot(xlist, y_pred, label='Final Model Prediction')\n",
    "\n",
    "plt.legend()\n",
    "plt.show()"
   ]
  },
  {
   "cell_type": "code",
   "execution_count": 0,
   "metadata": {
    "colab": {},
    "colab_type": "code",
    "id": "9V9NRB-wkdm8"
   },
   "outputs": [],
   "source": []
  }
 ],
 "metadata": {
  "colab": {
   "collapsed_sections": [],
   "name": "5_2_QCL.ipynb",
   "provenance": []
  },
  "kernelspec": {
   "display_name": "Python 3",
   "language": "python",
   "name": "python3"
  },
  "language_info": {
   "codemirror_mode": {
    "name": "ipython",
    "version": 3
   },
   "file_extension": ".py",
   "mimetype": "text/x-python",
   "name": "python",
   "nbconvert_exporter": "python",
   "pygments_lexer": "ipython3",
   "version": "3.7.7"
  }
 },
 "nbformat": 4,
 "nbformat_minor": 1
}
