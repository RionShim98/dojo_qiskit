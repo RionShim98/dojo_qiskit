{
 "cells": [
  {
   "cell_type": "code",
   "execution_count": 1,
   "metadata": {},
   "outputs": [],
   "source": [
    "import matplotlib.pyplot as plt\n",
    "import numpy as np\n",
    "from qiskit import IBMQ,QuantumCircuit,Aer,execute\n",
    "from qiskit.circuit.library.standard_gates import *\n",
    "%matplotlib inline"
   ]
  },
  {
   "cell_type": "code",
   "execution_count": 4,
   "metadata": {},
   "outputs": [],
   "source": [
    "def show_distribution(state,nqubits):\n",
    "    plt.bar([i for i in range(pow(2,nqubits))], abs(state))\n",
    "    plt.show()"
   ]
  },
  {
   "cell_type": "code",
   "execution_count": 5,
   "metadata": {},
   "outputs": [
    {
     "data": {
      "image/png": "[encoded data removed]",
      "text/plain": [
       "<Figure size 432x288 with 1 Axes>"
      ]
     },
     "metadata": {
      "needs_background": "light"
     },
     "output_type": "display_data"
    }
   ],
   "source": [
    "nqubits = 5\n",
    "\n",
    "def make_Hadamard(circuit,nqubits):\n",
    "    for i in range(nqubits):\n",
    "        circuit.h(i)\n",
    "    return circuit\n",
    "\n",
    "\n",
    "circuit=QuantumCircuit(nqubits)\n",
    "circuit=make_Hadamard(circuit,nqubits)\n",
    "backend=Aer.get_backend(\"statevector_simulator\")\n",
    "state=execute(circuit,backend).result().get_statevector()\n",
    "\n",
    "show_distribution(state,nqubits)"
   ]
  },
  {
   "cell_type": "code",
   "execution_count": 6,
   "metadata": {},
   "outputs": [],
   "source": [
    "def make_U_w(circuit, nqubits):\n",
    "    circuit.append( ZGate().control(nqubits-1),[i for i in range(nqubits)])\n",
    "    return circuit"
   ]
  },
  {
   "cell_type": "code",
   "execution_count": 7,
   "metadata": {},
   "outputs": [
    {
     "name": "stdout",
     "output_type": "stream",
     "text": [
      "[ 0.1767767+0.00000000e+00j  0.1767767+0.00000000e+00j\n",
      "  0.1767767+0.00000000e+00j  0.1767767+0.00000000e+00j\n",
      "  0.1767767+0.00000000e+00j  0.1767767+0.00000000e+00j\n",
      "  0.1767767+0.00000000e+00j  0.1767767+0.00000000e+00j\n",
      "  0.1767767+0.00000000e+00j  0.1767767+0.00000000e+00j\n",
      "  0.1767767+0.00000000e+00j  0.1767767+0.00000000e+00j\n",
      "  0.1767767+0.00000000e+00j  0.1767767+0.00000000e+00j\n",
      "  0.1767767+0.00000000e+00j  0.1767767+0.00000000e+00j\n",
      "  0.1767767+0.00000000e+00j  0.1767767+0.00000000e+00j\n",
      "  0.1767767+0.00000000e+00j  0.1767767+0.00000000e+00j\n",
      "  0.1767767+0.00000000e+00j  0.1767767+0.00000000e+00j\n",
      "  0.1767767+0.00000000e+00j  0.1767767+0.00000000e+00j\n",
      "  0.1767767+0.00000000e+00j  0.1767767+0.00000000e+00j\n",
      "  0.1767767+0.00000000e+00j  0.1767767+0.00000000e+00j\n",
      "  0.1767767+0.00000000e+00j  0.1767767+0.00000000e+00j\n",
      "  0.1767767+0.00000000e+00j -0.1767767+2.16489014e-17j]\n"
     ]
    }
   ],
   "source": [
    "circuit=QuantumCircuit(nqubits)\n",
    "circuit=make_Hadamard(circuit,nqubits)\n",
    "circuit=make_U_w(circuit,nqubits)\n",
    "\n",
    "backend=Aer.get_backend(\"statevector_simulator\")\n",
    "state=execute(circuit,backend).result().get_statevector()\n",
    "print(state)"
   ]
  },
  {
   "cell_type": "code",
   "execution_count": 8,
   "metadata": {},
   "outputs": [],
   "source": [
    "def make_U_s(circuit, nqubits):\n",
    "    for i in range(nqubits):\n",
    "        circuit.h(i)\n",
    "\n",
    "    circuit.rz(-2*np.pi, nqubits-1)\n",
    "    circuit.x(nqubits-1)\n",
    "    ctrl_s=\"0\"\n",
    "    for i in range(nqubits-2):\n",
    "        ctrl_s+=\"0\"\n",
    "    circuit.append(ZGate().control(nqubits-1,None,ctrl_s),[i for i in range(nqubits)])\n",
    "    circuit.x(nqubits-1)\n",
    "\n",
    "    for i in range(nqubits):\n",
    "        circuit.h(i)\n",
    "    return circuit"
   ]
  },
  {
   "cell_type": "code",
   "execution_count": 9,
   "metadata": {},
   "outputs": [
    {
     "data": {
      "image/png": "[encoded data removed]",
      "text/plain": [
       "<Figure size 432x288 with 1 Axes>"
      ]
     },
     "metadata": {
      "needs_background": "light"
     },
     "output_type": "display_data"
    }
   ],
   "source": [
    "circuit=QuantumCircuit(nqubits)\n",
    "circuit=make_Hadamard(circuit,nqubits)\n",
    "circuit=make_U_w(circuit,nqubits)\n",
    "circuit=make_U_s(circuit,nqubits)\n",
    "state=execute(circuit,backend).result().get_statevector()\n",
    "show_distribution(state,nqubits)"
   ]
  },
  {
   "cell_type": "code",
   "execution_count": 10,
   "metadata": {},
   "outputs": [
    {
     "data": {
      "image/png": "[encoded data removed]",
      "text/plain": [
       "<Figure size 432x288 with 1 Axes>"
      ]
     },
     "metadata": {
      "needs_background": "light"
     },
     "output_type": "display_data"
    },
    {
     "name": "stdout",
     "output_type": "stream",
     "text": [
      "0.5082329989778311\n"
     ]
    },
    {
     "data": {
      "image/png": "[encoded data removed]",
      "text/plain": [
       "<Figure size 432x288 with 1 Axes>"
      ]
     },
     "metadata": {
      "needs_background": "light"
     },
     "output_type": "display_data"
    },
    {
     "name": "stdout",
     "output_type": "stream",
     "text": [
      "0.776160177786797\n"
     ]
    },
    {
     "data": {
      "image/png": "[encoded data removed]",
      "text/plain": [
       "<Figure size 432x288 with 1 Axes>"
      ]
     },
     "metadata": {
      "needs_background": "light"
     },
     "output_type": "display_data"
    },
    {
     "name": "stdout",
     "output_type": "stream",
     "text": [
      "0.9470673343724136\n"
     ]
    },
    {
     "data": {
      "image/png": "[encoded data removed]",
      "text/plain": [
       "<Figure size 432x288 with 1 Axes>"
      ]
     },
     "metadata": {
      "needs_background": "light"
     },
     "output_type": "display_data"
    },
    {
     "name": "stdout",
     "output_type": "stream",
     "text": [
      "0.9995910741614789\n"
     ]
    }
   ],
   "source": [
    "circuit=QuantumCircuit(nqubits)\n",
    "for i in range(nqubits):\n",
    "    circuit.x(i)\n",
    "\n",
    "target_state=execute(circuit,backend).result().get_statevector()\n",
    "\n",
    "circuit=QuantumCircuit(nqubits)\n",
    "circuit=make_Hadamard(circuit,nqubits)\n",
    "\n",
    "for i in range(4):\n",
    "    circuit=make_U_w(circuit,nqubits)\n",
    "    circuit=make_U_s(circuit,nqubits)\n",
    "    state=execute(circuit,backend).result().get_statevector()\n",
    "    show_distribution(state,nqubits)\n",
    "    print(np.linalg.norm(np.dot(state, target_state)))"
   ]
  },
  {
   "cell_type": "code",
   "execution_count": 11,
   "metadata": {},
   "outputs": [
    {
     "name": "stdout",
     "output_type": "stream",
     "text": [
      "maximal probability 9.997306e-01 is obtained at k = 25\n"
     ]
    },
    {
     "data": {
      "text/plain": [
       "[<matplotlib.lines.Line2D at 0x21c40211d08>]"
      ]
     },
     "execution_count": 11,
     "metadata": {},
     "output_type": "execute_result"
    },
    {
     "data": {
      "image/png": "[encoded data removed]",
      "text/plain": [
       "<Figure size 432x288 with 1 Axes>"
      ]
     },
     "metadata": {
      "needs_background": "light"
     },
     "output_type": "display_data"
    }
   ],
   "source": [
    "nqubits = 10\n",
    "\n",
    "circuit=QuantumCircuit(nqubits)\n",
    "\n",
    "for i in range(nqubits):\n",
    "    circuit.x(i)\n",
    "    \n",
    "target_state=execute(circuit,backend).result().get_statevector()\n",
    "\n",
    "circuit=QuantumCircuit(nqubits)\n",
    "circuit=make_Hadamard(circuit,nqubits)\n",
    "\n",
    "result = []\n",
    "\n",
    "for k in range(30):\n",
    "    circuit=make_U_w(circuit,nqubits)\n",
    "    circuit=make_U_s(circuit,nqubits)\n",
    "    state=execute(circuit,backend).result().get_statevector()\n",
    "    result.append(np.linalg.norm(np.dot(state, target_state)))\n",
    "\n",
    "max_k = np.argmax(result)\n",
    "print( f\"maximal probability {result[max_k]:5e} is obtained at k = {max_k+1}\")\n",
    "\n",
    "plt.plot(np.arange(1, 30+1), result, \"o-\")"
   ]
  },
  {
   "cell_type": "code",
   "execution_count": 12,
   "metadata": {},
   "outputs": [
    {
     "name": "stdout",
     "output_type": "stream",
     "text": [
      "nqubits=6, num_iter=7, suc_prob=9.526013e-01\n",
      "nqubits=8, num_iter=13, suc_prob=9.930691e-01\n",
      "nqubits=10, num_iter=26, suc_prob=9.963280e-01\n",
      "nqubits=12, num_iter=51, suc_prob=9.992534e-01\n",
      "nqubits=14, num_iter=101, suc_prob=9.998851e-01\n",
      "nqubits=16, num_iter=202, suc_prob=9.999368e-01\n"
     ]
    }
   ],
   "source": [
    "result = []\n",
    "min_nqubits = 6\n",
    "max_nqubits = 16\n",
    "\n",
    "for nqubits in range(min_nqubits, max_nqubits+1, 2):\n",
    "\n",
    "    circuit=QuantumCircuit(nqubits)\n",
    "    for i in range(nqubits):\n",
    "        circuit.x(i)\n",
    "    target_state=execute(circuit,backend).result().get_statevector()\n",
    "    \n",
    "    circuit=QuantumCircuit(nqubits)\n",
    "    circuit=make_Hadamard(circuit,nqubits)\n",
    "    \n",
    "    tmp = 0\n",
    "    flag = 0\n",
    "    num_iter = 0\n",
    "    while flag == 0 and num_iter <= 1000:\n",
    "        num_iter += 1\n",
    "        circuit=make_U_w(circuit,nqubits)\n",
    "        circuit=make_U_s(circuit,nqubits)\n",
    "        state=execute(circuit,backend).result().get_statevector()\n",
    "        suc_prob = np.linalg.norm(np.dot(state, target_state))\n",
    "        if tmp < suc_prob:\n",
    "            tmp = suc_prob\n",
    "        else:\n",
    "            flag = 1\n",
    "    result.append( [nqubits, num_iter, suc_prob] )\n",
    "    print(f\"nqubits={nqubits}, num_iter={num_iter}, suc_prob={suc_prob:5e}\")"
   ]
  },
  {
   "cell_type": "code",
   "execution_count": 13,
   "metadata": {},
   "outputs": [
    {
     "data": {
      "text/plain": [
       "<matplotlib.legend.Legend at 0x21c40743748>"
      ]
     },
     "execution_count": 13,
     "metadata": {},
     "output_type": "execute_result"
    },
    {
     "data": {
      "image/png": "[encoded data removed]",
      "text/plain": [
       "<Figure size 432x288 with 1 Axes>"
      ]
     },
     "metadata": {
      "needs_background": "light"
     },
     "output_type": "display_data"
    }
   ],
   "source": [
    "result_array = np.array(result)\n",
    "\n",
    "plt.xlim(min_nqubits-1, max_nqubits+1)\n",
    "plt.xlabel(\"n, # of qubits\", fontsize=15)\n",
    "plt.ylabel(\"k, # of iteration\", fontsize=15)\n",
    "plt.semilogy(result_array[:,0], result_array[:,1], \"o-\", label=\"experiment\")\n",
    "plt.semilogy(result_array[:,0], 0.05*2**result_array[:,0], \"-\", label=r\"$\\propto N=2^n$\")\n",
    "plt.semilogy(result_array[:,0], 2**(0.5*result_array[:,0]), \"-\", label=r\"$\\propto \\sqrt{N}=2^{n/2}$\")\n",
    "plt.legend(fontsize=10)"
   ]
  },
  {
   "cell_type": "code",
   "execution_count": null,
   "metadata": {},
   "outputs": [],
   "source": []
  }
 ],
 "metadata": {
  "kernelspec": {
   "display_name": "Python 3",
   "language": "python",
   "name": "python3"
  },
  "language_info": {
   "codemirror_mode": {
    "name": "ipython",
    "version": 3
   },
   "file_extension": ".py",
   "mimetype": "text/x-python",
   "name": "python",
   "nbconvert_exporter": "python",
   "pygments_lexer": "ipython3",
   "version": "3.7.7"
  }
 },
 "nbformat": 4,
 "nbformat_minor": 4
}
