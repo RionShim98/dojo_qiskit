{
 "cells": [
  {
   "cell_type": "markdown",
   "metadata": {
    "colab_type": "text",
    "id": "_fHd52Cp31vc"
   },
   "source": [
    "Qiskitでは\n",
    "\\begin{align}\n",
    "&R_X(\\theta)=e^{-i(\\theta/2)X}=\\cos(\\theta/2)I-i\\sin(\\theta/2)X=\n",
    "\\left[\n",
    "\\begin{array}{cc}\n",
    "\\cos(\\theta/2) &-i\\sin(\\theta/2)  \\\\\n",
    "-i\\sin(\\theta/2) & \\cos(\\theta/2)\n",
    "\\end{array}\n",
    "\\right]\\notag\\\\\n",
    "&R_Y(\\theta)=e^{-i(\\theta/2)Y}=\\cos(\\theta/2)I-i\\sin(\\theta/2)Y=\n",
    "\\left[\n",
    "\\begin{array}{cc}\n",
    "\\cos(\\theta/2) &-\\sin(\\theta/2)  \\\\\n",
    "\\sin(\\theta/2) & \\cos(\\theta/2)\n",
    "\\end{array}\n",
    "\\right]\\notag\\\\\n",
    "\\end{align}\n",
    "である。$R_z(\\theta)$に関しては理論上は\n",
    "\\begin{align}\n",
    "&R_Z(\\theta)=e^{-i(\\theta/2)Z}=\\cos(\\theta/2)I-i\\sin(\\theta/2)Z=\\left[\n",
    "\\begin{array}{cc}\n",
    "e^{-i\\theta/2} &0  \\\\\n",
    "0 & e^{i\\theta/2}\n",
    "\\end{array}\n",
    "\\right]=\n",
    "e^{-i\\theta/2}\\left[\n",
    "\\begin{array}{cc}\n",
    "1 &0  \\\\\n",
    "0 & e^{i\\theta}\n",
    "\\end{array}\n",
    "\\right]\n",
    "\\end{align}\n",
    "であるが、Qiskitでは絶対位相を無視して\n",
    "\\begin{equation}\n",
    "R_z(\\theta)=\\left[\n",
    "\\begin{array}{cc}\n",
    "1 &0  \\\\\n",
    "0 & e^{i\\theta}\n",
    "\\end{array}\n",
    "\\right]\n",
    "\\end{equation}\n",
    "としている。"
   ]
  },
  {
   "cell_type": "code",
   "execution_count": 1,
   "metadata": {
    "colab": {
     "base_uri": "https://localhost:8080/",
     "height": 1000
    },
    "colab_type": "code",
    "executionInfo": {
     "elapsed": 39292,
     "status": "ok",
     "timestamp": 1592029080197,
     "user": {
      "displayName": "島津利音",
      "photoUrl": "",
      "userId": "05283225908521937995"
     },
     "user_tz": -540
    },
    "id": "3uvSNa_dUtj5",
    "outputId": "759b95a2-83c0-4685-b6d8-9021624db0e3"
   },
   "outputs": [
    {
     "name": "stdout",
     "output_type": "stream",
     "text": [
      "Collecting qiskit\n",
      "  Downloading https://files.pythonhosted.org/packages/db/a4/587cbe0186990b0f07b6161458461ae8d9ddbccdb00f827a23384eeb77fa/qiskit-0.19.3.tar.gz\n",
      "Collecting qiskit-terra==0.14.1\n",
      "\u001b[?25l  Downloading https://files.pythonhosted.org/packages/55/c3/6c3561cbcf69a791307ada32d61b4eeb7ab6a38ac968e0f1e36f0e40b249/qiskit_terra-0.14.1-cp36-cp36m-manylinux2010_x86_64.whl (6.7MB)\n",
      "\u001b[K     |████████████████████████████████| 6.7MB 2.5MB/s \n",
      "\u001b[?25hCollecting qiskit-aer==0.5.2\n",
      "\u001b[?25l  Downloading https://files.pythonhosted.org/packages/45/6f/2d269684891b634cce6ddb5684fd004c7b6bf986cec8544f4b6f495c8b99/qiskit_aer-0.5.2-cp36-cp36m-manylinux2010_x86_64.whl (23.3MB)\n",
      "\u001b[K     |████████████████████████████████| 23.3MB 1.5MB/s \n",
      "\u001b[?25hCollecting qiskit-ibmq-provider==0.7.2\n",
      "\u001b[?25l  Downloading https://files.pythonhosted.org/packages/92/1f/0c6b290064a471a8a9c1e3366367b46d320efdad6b730eadefbd1f3c4eb0/qiskit_ibmq_provider-0.7.2-py3-none-any.whl (155kB)\n",
      "\u001b[K     |████████████████████████████████| 163kB 42.7MB/s \n",
      "\u001b[?25hCollecting qiskit-ignis==0.3.0\n",
      "\u001b[?25l  Downloading https://files.pythonhosted.org/packages/b9/f5/25c92e7c816da820163d0e951b5f340a5f69a4088c42fb44df4a9ba6bf14/qiskit_ignis-0.3.0-py3-none-any.whl (172kB)\n",
      "\u001b[K     |████████████████████████████████| 174kB 50.0MB/s \n",
      "\u001b[?25hCollecting qiskit-aqua==0.7.1\n",
      "\u001b[?25l  Downloading https://files.pythonhosted.org/packages/f4/dc/fa9282e9a40ca4adc6cf0a542fd04b179d477d54e8197c043b02deeb542b/qiskit_aqua-0.7.1-py3-none-any.whl (1.9MB)\n",
      "\u001b[K     |████████████████████████████████| 1.9MB 35.4MB/s \n",
      "\u001b[?25hRequirement already satisfied: jsonschema>=2.6 in /usr/local/lib/python3.6/dist-packages (from qiskit-terra==0.14.1->qiskit) (2.6.0)\n",
      "Collecting fastjsonschema>=2.10\n",
      "  Downloading https://files.pythonhosted.org/packages/3a/2b/5e93ebbdc92fe742bfc006f79336c2ddcb436747ef579bc05057c43ad876/fastjsonschema-2.14.4-py3-none-any.whl\n",
      "Requirement already satisfied: psutil>=5 in /usr/local/lib/python3.6/dist-packages (from qiskit-terra==0.14.1->qiskit) (5.4.8)\n",
      "Requirement already satisfied: numpy>=1.17 in /usr/local/lib/python3.6/dist-packages (from qiskit-terra==0.14.1->qiskit) (1.18.5)\n",
      "Collecting marshmallow-polyfield<6,>=5.7\n",
      "  Downloading https://files.pythonhosted.org/packages/0c/7e/ceb805d05cd03709b8de122b4ac1e736c4eb91d05281ad2a2bcb484accef/marshmallow-polyfield-5.9.tar.gz\n",
      "Collecting retworkx>=0.3.2\n",
      "\u001b[?25l  Downloading https://files.pythonhosted.org/packages/28/44/e28d30808fc093bb82393737f36f1fd370afe5ed82a08c382c4672340916/retworkx-0.3.4-cp36-cp36m-manylinux2010_x86_64.whl (763kB)\n",
      "\u001b[K     |████████████████████████████████| 768kB 43.0MB/s \n",
      "\u001b[?25hRequirement already satisfied: dill>=0.3 in /usr/local/lib/python3.6/dist-packages (from qiskit-terra==0.14.1->qiskit) (0.3.1.1)\n",
      "Collecting python-constraint>=1.4\n",
      "  Downloading https://files.pythonhosted.org/packages/37/8b/5f1bc2734ca611943e1d6733ee244238679f6410a10cd45ede55a61a8402/python-constraint-1.4.0.tar.bz2\n",
      "Requirement already satisfied: networkx>=2.2; python_version > \"3.5\" in /usr/local/lib/python3.6/dist-packages (from qiskit-terra==0.14.1->qiskit) (2.4)\n",
      "Collecting ply>=3.10\n",
      "\u001b[?25l  Downloading https://files.pythonhosted.org/packages/a3/58/35da89ee790598a0700ea49b2a66594140f44dec458c07e8e3d4979137fc/ply-3.11-py2.py3-none-any.whl (49kB)\n",
      "\u001b[K     |████████████████████████████████| 51kB 6.7MB/s \n",
      "\u001b[?25hRequirement already satisfied: python-dateutil>=2.8.0 in /usr/local/lib/python3.6/dist-packages (from qiskit-terra==0.14.1->qiskit) (2.8.1)\n",
      "Collecting marshmallow<4,>=3\n",
      "\u001b[?25l  Downloading https://files.pythonhosted.org/packages/8e/4d/1c64381398d25bc46250373dbeec89713f06e23eba8531c9eccd4e671a8a/marshmallow-3.6.1-py2.py3-none-any.whl (45kB)\n",
      "\u001b[K     |████████████████████████████████| 51kB 6.8MB/s \n",
      "\u001b[?25hCollecting sympy>=1.3\n",
      "\u001b[?25l  Downloading https://files.pythonhosted.org/packages/a4/ea/590e1f2c73a1b8f878a1398b0edbf261d660439a9f851accb39db73d8e2f/sympy-1.6-py3-none-any.whl (5.8MB)\n",
      "\u001b[K     |████████████████████████████████| 5.8MB 44.8MB/s \n",
      "\u001b[?25hRequirement already satisfied: scipy>=1.4 in /usr/local/lib/python3.6/dist-packages (from qiskit-terra==0.14.1->qiskit) (1.4.1)\n",
      "Collecting pybind11>=2.4\n",
      "\u001b[?25l  Downloading https://files.pythonhosted.org/packages/89/e3/d576f6f02bc75bacbc3d42494e8f1d063c95617d86648dba243c2cb3963e/pybind11-2.5.0-py2.py3-none-any.whl (296kB)\n",
      "\u001b[K     |████████████████████████████████| 296kB 45.8MB/s \n",
      "\u001b[?25hRequirement already satisfied: cython>=0.27.1 in /usr/local/lib/python3.6/dist-packages (from qiskit-aer==0.5.2->qiskit) (0.29.19)\n",
      "Requirement already satisfied: urllib3>=1.21.1 in /usr/local/lib/python3.6/dist-packages (from qiskit-ibmq-provider==0.7.2->qiskit) (1.24.3)\n",
      "Collecting websockets<8,>=7\n",
      "\u001b[?25l  Downloading https://files.pythonhosted.org/packages/43/71/8bfa882b9c502c36e5c9ef6732969533670d2b039cbf95a82ced8f762b80/websockets-7.0-cp36-cp36m-manylinux1_x86_64.whl (63kB)\n",
      "\u001b[K     |████████████████████████████████| 71kB 9.2MB/s \n",
      "\u001b[?25hRequirement already satisfied: requests>=2.19 in /usr/local/lib/python3.6/dist-packages (from qiskit-ibmq-provider==0.7.2->qiskit) (2.23.0)\n",
      "Collecting nest-asyncio!=1.1.0,>=1.0.0\n",
      "  Downloading https://files.pythonhosted.org/packages/74/b4/b24e0a271fb78990c2c62238321686454824b1357ce7abcf20f431fd903d/nest_asyncio-1.3.3-py3-none-any.whl\n",
      "Collecting requests-ntlm>=1.1.0\n",
      "  Downloading https://files.pythonhosted.org/packages/03/4b/8b9a1afde8072c4d5710d9fa91433d504325821b038e00237dc8d6d833dc/requests_ntlm-1.1.0-py2.py3-none-any.whl\n",
      "Requirement already satisfied: setuptools>=40.1.0 in /usr/local/lib/python3.6/dist-packages (from qiskit-ignis==0.3.0->qiskit) (47.1.1)\n",
      "Requirement already satisfied: h5py in /usr/local/lib/python3.6/dist-packages (from qiskit-aqua==0.7.1->qiskit) (2.10.0)\n",
      "Requirement already satisfied: scikit-learn>=0.20.0 in /usr/local/lib/python3.6/dist-packages (from qiskit-aqua==0.7.1->qiskit) (0.22.2.post1)\n",
      "Requirement already satisfied: fastdtw in /usr/local/lib/python3.6/dist-packages (from qiskit-aqua==0.7.1->qiskit) (0.3.4)\n",
      "Collecting dlx\n",
      "  Downloading https://files.pythonhosted.org/packages/54/c0/b8fb5bb727e983b6f5251433ef941b48f38c65bb0bd6ec509e9185bcd406/dlx-1.0.4.tar.gz\n",
      "Collecting docplex\n",
      "\u001b[?25l  Downloading https://files.pythonhosted.org/packages/00/06/ad4441a00b8a9ff415882ff31273fe6519034879b6c2b65c47758a0278d5/docplex-2.14.186.tar.gz (572kB)\n",
      "\u001b[K     |████████████████████████████████| 573kB 41.4MB/s \n",
      "\u001b[?25hCollecting pyscf; sys_platform != \"win32\"\n",
      "\u001b[?25l  Downloading https://files.pythonhosted.org/packages/0c/69/c6dad63aec5519c287036e82beb36ca46e4a409604676b8787425fa7499c/pyscf-1.7.3-cp36-cp36m-manylinux1_x86_64.whl (26.0MB)\n",
      "\u001b[K     |████████████████████████████████| 26.0MB 122kB/s \n",
      "\u001b[?25hCollecting quandl\n",
      "  Downloading https://files.pythonhosted.org/packages/07/ab/8cd479fba8a9b197a43a0d55dd534b066fb8e5a0a04b5c0384cbc5d663aa/Quandl-3.5.0-py2.py3-none-any.whl\n",
      "Requirement already satisfied: decorator>=4.3.0 in /usr/local/lib/python3.6/dist-packages (from networkx>=2.2; python_version > \"3.5\"->qiskit-terra==0.14.1->qiskit) (4.4.2)\n",
      "Requirement already satisfied: six>=1.5 in /usr/local/lib/python3.6/dist-packages (from python-dateutil>=2.8.0->qiskit-terra==0.14.1->qiskit) (1.12.0)\n",
      "Requirement already satisfied: mpmath>=0.19 in /usr/local/lib/python3.6/dist-packages (from sympy>=1.3->qiskit-terra==0.14.1->qiskit) (1.1.0)\n",
      "Requirement already satisfied: certifi>=2017.4.17 in /usr/local/lib/python3.6/dist-packages (from requests>=2.19->qiskit-ibmq-provider==0.7.2->qiskit) (2020.4.5.1)\n",
      "Requirement already satisfied: chardet<4,>=3.0.2 in /usr/local/lib/python3.6/dist-packages (from requests>=2.19->qiskit-ibmq-provider==0.7.2->qiskit) (3.0.4)\n",
      "Requirement already satisfied: idna<3,>=2.5 in /usr/local/lib/python3.6/dist-packages (from requests>=2.19->qiskit-ibmq-provider==0.7.2->qiskit) (2.9)\n",
      "Collecting cryptography>=1.3\n",
      "\u001b[?25l  Downloading https://files.pythonhosted.org/packages/3c/04/686efee2dcdd25aecf357992e7d9362f443eb182ecd623f882bc9f7a6bba/cryptography-2.9.2-cp35-abi3-manylinux2010_x86_64.whl (2.7MB)\n",
      "\u001b[K     |████████████████████████████████| 2.7MB 48.6MB/s \n",
      "\u001b[?25hCollecting ntlm-auth>=1.0.2\n",
      "  Downloading https://files.pythonhosted.org/packages/50/09/5e397eb18685b14fd8b209e26cdb4fa6451c82c1bcc651fef05fa73e7b27/ntlm_auth-1.4.0-py2.py3-none-any.whl\n",
      "Requirement already satisfied: joblib>=0.11 in /usr/local/lib/python3.6/dist-packages (from scikit-learn>=0.20.0->qiskit-aqua==0.7.1->qiskit) (0.15.1)\n",
      "Requirement already satisfied: pandas>=0.14 in /usr/local/lib/python3.6/dist-packages (from quandl->qiskit-aqua==0.7.1->qiskit) (1.0.4)\n",
      "Requirement already satisfied: more-itertools in /usr/local/lib/python3.6/dist-packages (from quandl->qiskit-aqua==0.7.1->qiskit) (8.3.0)\n",
      "Collecting inflection>=0.3.1\n",
      "  Downloading https://files.pythonhosted.org/packages/d2/cd/f04c661d1b5ba6b7d77008e8fedd28a27a683eeeffcd93c6b2dbe54ea983/inflection-0.5.0-py2.py3-none-any.whl\n",
      "Requirement already satisfied: cffi!=1.11.3,>=1.8 in /usr/local/lib/python3.6/dist-packages (from cryptography>=1.3->requests-ntlm>=1.1.0->qiskit-ibmq-provider==0.7.2->qiskit) (1.14.0)\n",
      "Requirement already satisfied: pytz>=2017.2 in /usr/local/lib/python3.6/dist-packages (from pandas>=0.14->quandl->qiskit-aqua==0.7.1->qiskit) (2018.9)\n",
      "Requirement already satisfied: pycparser in /usr/local/lib/python3.6/dist-packages (from cffi!=1.11.3,>=1.8->cryptography>=1.3->requests-ntlm>=1.1.0->qiskit-ibmq-provider==0.7.2->qiskit) (2.20)\n",
      "Building wheels for collected packages: qiskit, marshmallow-polyfield, python-constraint, dlx, docplex\n",
      "  Building wheel for qiskit (setup.py) ... \u001b[?25l\u001b[?25hdone\n",
      "  Created wheel for qiskit: filename=qiskit-0.19.3-cp36-none-any.whl size=2899 sha256=26f99fa280823b063d68763871c87311b395dd89c7d97e3169a2b63d0ad1bbcc\n",
      "  Stored in directory: /root/.cache/pip/wheels/6d/48/7e/b22ec709562f69eead9f6fd544a7f4658ed02442d7b1fc3853\n",
      "  Building wheel for marshmallow-polyfield (setup.py) ... \u001b[?25l\u001b[?25hdone\n",
      "  Created wheel for marshmallow-polyfield: filename=marshmallow_polyfield-5.9-cp36-none-any.whl size=8537 sha256=c3304bb6a4c2d876d3900b5d8476a5b83efa08c6db1d0712362128702a2ab4d6\n",
      "  Stored in directory: /root/.cache/pip/wheels/69/27/3e/7472f75eab2db111aa387715fe009af15899459517fc1a1906\n",
      "  Building wheel for python-constraint (setup.py) ... \u001b[?25l\u001b[?25hdone\n",
      "  Created wheel for python-constraint: filename=python_constraint-1.4.0-py2.py3-none-any.whl size=24080 sha256=06593a9b0e9c527fb98dffde3cfa117de86c01204a4451ed6e233c01e1966ba0\n",
      "  Stored in directory: /root/.cache/pip/wheels/34/31/15/7b070b25d0a549d20ce2e9fe6d727471c2c61ef904720fd40c\n",
      "  Building wheel for dlx (setup.py) ... \u001b[?25l\u001b[?25hdone\n",
      "  Created wheel for dlx: filename=dlx-1.0.4-cp36-none-any.whl size=5712 sha256=a5d8c2d28de73df55b8c5b6c6dcc20b2addd6cd0ef165306e188ae39332ae402\n",
      "  Stored in directory: /root/.cache/pip/wheels/bb/ba/15/fdd0deb104df3254912998150ba9245668db06b00af5912d1a\n",
      "  Building wheel for docplex (setup.py) ... \u001b[?25l\u001b[?25hdone\n",
      "  Created wheel for docplex: filename=docplex-2.14.186-cp36-none-any.whl size=634442 sha256=4d757981544860b36b6f04f9b707f67ee2daa55ad5ac282283105888c21f9e00\n",
      "  Stored in directory: /root/.cache/pip/wheels/aa/28/cd/ba75f92d49b25dacec6b80f99efcc393dc84abf33f96632ac4\n",
      "Successfully built qiskit marshmallow-polyfield python-constraint dlx docplex\n",
      "Installing collected packages: fastjsonschema, marshmallow, marshmallow-polyfield, retworkx, python-constraint, ply, sympy, qiskit-terra, pybind11, qiskit-aer, websockets, nest-asyncio, cryptography, ntlm-auth, requests-ntlm, qiskit-ibmq-provider, qiskit-ignis, dlx, docplex, pyscf, inflection, quandl, qiskit-aqua, qiskit\n",
      "  Found existing installation: sympy 1.1.1\n",
      "    Uninstalling sympy-1.1.1:\n",
      "      Successfully uninstalled sympy-1.1.1\n",
      "Successfully installed cryptography-2.9.2 dlx-1.0.4 docplex-2.14.186 fastjsonschema-2.14.4 inflection-0.5.0 marshmallow-3.6.1 marshmallow-polyfield-5.9 nest-asyncio-1.3.3 ntlm-auth-1.4.0 ply-3.11 pybind11-2.5.0 pyscf-1.7.3 python-constraint-1.4.0 qiskit-0.19.3 qiskit-aer-0.5.2 qiskit-aqua-0.7.1 qiskit-ibmq-provider-0.7.2 qiskit-ignis-0.3.0 qiskit-terra-0.14.1 quandl-3.5.0 requests-ntlm-1.1.0 retworkx-0.3.4 sympy-1.6 websockets-7.0\n"
     ]
    }
   ],
   "source": [
    "!pip install qiskit"
   ]
  },
  {
   "cell_type": "code",
   "execution_count": 0,
   "metadata": {
    "colab": {},
    "colab_type": "code",
    "id": "NSFd1Iqft6vw"
   },
   "outputs": [],
   "source": [
    "from functools import reduce\n",
    "import numpy as np\n",
    "from numpy.linalg import matrix_power, eig\n",
    "from scipy.sparse.linalg import eigsh\n",
    "import matplotlib.pyplot as plt\n",
    "%matplotlib inline\n",
    "from qiskit import IBMQ, QuantumCircuit, Aer, execute\n",
    "from qiskit.circuit.library.standard_gates import *\n",
    "from qiskit.quantum_info import Pauli,Operator"
   ]
  },
  {
   "cell_type": "code",
   "execution_count": 0,
   "metadata": {
    "colab": {},
    "colab_type": "code",
    "id": "et76G-j0Uqjx"
   },
   "outputs": [],
   "source": [
    "def hamiltonian_eff():\n",
    "    n_qubits = 2\n",
    "    g_list = [0.3593, 0.0896, -0.4826, 0.0896]\n",
    "    pauli_strings = ['ZI', 'YY', 'IZ', 'XX']\n",
    "    hamiltonian_matrix = np.zeros((2**n_qubits,2**n_qubits),dtype=\"complex128\")\n",
    "    for g, h in zip(g_list, pauli_strings):\n",
    "        hamiltonian_matrix += g * Pauli(label=h).to_matrix()\n",
    "    vals, vecs = eigsh(hamiltonian_matrix, k=1, which='SA')\n",
    "    return hamiltonian_matrix, vals"
   ]
  },
  {
   "cell_type": "code",
   "execution_count": 10,
   "metadata": {
    "colab": {
     "base_uri": "https://localhost:8080/",
     "height": 34
    },
    "colab_type": "code",
    "executionInfo": {
     "elapsed": 681,
     "status": "ok",
     "timestamp": 1592029174969,
     "user": {
      "displayName": "島津利音",
      "photoUrl": "",
      "userId": "05283225908521937995"
     },
     "user_tz": -540
    },
    "id": "mjqnykN0wOAK",
    "outputId": "1e9d195b-13a7-4f03-b752-ae522f2b5de8"
   },
   "outputs": [
    {
     "name": "stdout",
     "output_type": "stream",
     "text": [
      "exact_eigenvalue: -0.8607602744 Ha\n"
     ]
    }
   ],
   "source": [
    "_, eigs = hamiltonian_eff()\n",
    "exact_eigenvalue = eigs[0]\n",
    "print('exact_eigenvalue: {:.10f} Ha'.format(exact_eigenvalue))"
   ]
  },
  {
   "cell_type": "code",
   "execution_count": 0,
   "metadata": {
    "colab": {},
    "colab_type": "code",
    "id": "LcQ1avRPUqj4"
   },
   "outputs": [],
   "source": [
    "def order_n_trotter_approx(t, n_trotter_steps):\n",
    "    n_qubits = 2\n",
    "    g_list = [0.3593, 0.0896, -0.4826, 0.0896]\n",
    "    pauli_strings = ['ZI', 'YY', 'IZ', 'XX']\n",
    "    terms = []\n",
    "    for g, h in zip(g_list, pauli_strings):\n",
    "        arg = g * t / n_trotter_steps\n",
    "        qop = complex(np.cos(arg), 0) * Pauli(label=\"II\").to_matrix()- complex(0, np.sin(arg)) * Pauli(label=h).to_matrix()\n",
    "        terms += [qop]\n",
    "    sparse_matrix = reduce(np.dot, terms)\n",
    "    matrix = matrix_power(sparse_matrix, n_trotter_steps)\n",
    "    vals, vecs = eig(matrix)\n",
    "    args = np.angle(vals)\n",
    "    return sparse_matrix, sorted(args)"
   ]
  },
  {
   "cell_type": "code",
   "execution_count": 12,
   "metadata": {
    "colab": {
     "base_uri": "https://localhost:8080/",
     "height": 122
    },
    "colab_type": "code",
    "executionInfo": {
     "elapsed": 643,
     "status": "ok",
     "timestamp": 1592029178322,
     "user": {
      "displayName": "島津利音",
      "photoUrl": "",
      "userId": "05283225908521937995"
     },
     "user_tz": -540
    },
    "id": "w6f95KAVwdjG",
    "outputId": "d47a2df8-7f5c-4df9-ce44-037ce22013fe"
   },
   "outputs": [
    {
     "name": "stdout",
     "output_type": "stream",
     "text": [
      "N, E_trot, |exact_eig - E_trot|\n",
      "1, -0.8602760326, 4.842e-04\n",
      "3, -0.8607068561, 5.342e-05\n",
      "5, -0.8607410548, 1.922e-05\n",
      "7, -0.8607504700, 9.804e-06\n",
      "9, -0.8607543437, 5.931e-06\n"
     ]
    }
   ],
   "source": [
    "tau = 0.640\n",
    "print('N, E_trot, |exact_eig - E_trot|')\n",
    "for n in range(1, 10, 2):\n",
    "    _, phases = order_n_trotter_approx(tau, n)\n",
    "    e_trotter = phases[0]/tau\n",
    "    print( f\"{n}, {e_trotter:.10f}, {abs(exact_eigenvalue - e_trotter):.3e}\" )"
   ]
  },
  {
   "cell_type": "code",
   "execution_count": 0,
   "metadata": {
    "colab": {},
    "colab_type": "code",
    "id": "zndkDv0_winU"
   },
   "outputs": [],
   "source": [
    "def IQPE_circuit(circuit, g_list, tau, kickback_phase, k, n_trotter_step=1):\n",
    "    n_qubits = 3\n",
    "    a_idx = 2\n",
    "    phi = -(tau / n_trotter_step) * g_list\n",
    "    circuit.h(a_idx)\n",
    "    circuit.rz(-kickback_phase, a_idx)\n",
    "\n",
    "#    G=[[RZGate(-phi[0]),XGate().control(1),RZGate(phi[0]),XGate().control(1)],\n",
    "#        [SdgGate(),SdgGate(),HGate(),HGate(),XGate().control(1),RZGate(-phi[1]),XGate().control(1),RZGate(phi[1]),XGate().control(1),XGate().control(1),HGate(),HGate(),SGate(),SGate()],\n",
    "#        [RZGate(-phi[2]),XGate().control(1),RZGate(phi[2]),XGate().control(1)],\n",
    "#        [HGate(),HGate(),XGate().control(1),RZGate(-phi[3]),XGate().control(1),RZGate(phi[3]),XGate().control(1),XGate().control(1),HGate(),HGate()]]\n",
    "#    ind=[[  [0],[a_idx,0],[0],[a_idx,0]  ],\n",
    "#         [ [0],[1],[0],[1],[0,1],[1],[a_idx,1],[1],[a_idx,1],[0,1],[0],[1],[0],[1]  ],\n",
    "#         [ [1],[a_idx,1],[1],[a_idx,1]  ],\n",
    "#         [ [0],[1],[0,1],[1],[a_idx,1],[1],[a_idx,1],[0,1],[0],[1]  ]]\n",
    "\n",
    "#    for _ in range( 2 ** (k-1) ):\n",
    "#        for _ in range(n_trotter_step):\n",
    "#            for i in range(4):\n",
    "#                for j in range(len(G[i])):\n",
    "#                    circuit.append(G[i][j],ind[i][j])\n",
    "    for _ in range( 2 ** (k-1) ):\n",
    "        for _ in range(n_trotter_step):\n",
    "            # CU(Z0) i.e. controlled exp(i phi[0]*Z_0)\n",
    "            circuit.rz(-phi[0],0) \n",
    "            circuit.cx(a_idx, 0)\n",
    "            circuit.rz(phi[0],0)\n",
    "            circuit.cx(a_idx, 0)\n",
    "\n",
    "            # CU(Y0 Y1)\n",
    "            circuit.sdg(0)\n",
    "            circuit.sdg(1)\n",
    "            circuit.h(0)\n",
    "            circuit.h(1)\n",
    "            circuit.cx(0, 1)\n",
    "            circuit.rz(-phi[1],1)\n",
    "            circuit.cx(a_idx, 1)\n",
    "            circuit.rz(phi[1],1)\n",
    "            circuit.cx(a_idx, 1)\n",
    "            circuit.cx(0, 1)\n",
    "            circuit.h(0)\n",
    "            circuit.h(1)\n",
    "            circuit.s(0)\n",
    "            circuit.s(1)\n",
    "\n",
    "            # CU(Z1)\n",
    "            circuit.rz(-phi[2],1)\n",
    "            circuit.cx(a_idx, 1)\n",
    "            circuit.rz(phi[2],1)\n",
    "            circuit.cx(a_idx, 1)\n",
    "\n",
    "            # CU(X0 X1)\n",
    "            circuit.h(0)\n",
    "            circuit.h(1)\n",
    "            circuit.cx(0, 1)\n",
    "            circuit.rz(-phi[3],1)\n",
    "            circuit.cx(a_idx, 1)\n",
    "            circuit.rz(phi[3],1)\n",
    "            circuit.cx(a_idx, 1)\n",
    "            circuit.cx(0, 1)\n",
    "            circuit.h(0)\n",
    "            circuit.h(1)\n",
    "            \n",
    "    circuit.h(a_idx)\n",
    "    return circuit\n",
    "\n",
    "def meas_operator(n_qubits,a_idx,bit):\n",
    "    meas = np.array([[(1+bit)%2,0],[0,(0+bit)%2]])\n",
    "    if a_idx==0:\n",
    "        M=meas\n",
    "    else:\n",
    "        M=np.eye(2)\n",
    "    for i in range(1,n_qubits):\n",
    "        if i==a_idx:\n",
    "            M=np.kron(meas,M) \n",
    "        else:\n",
    "            M=np.kron(np.eye(2),M)         \n",
    "    return M\n",
    "        \n",
    "def iterative_phase_estimation( g_list, tau, n_itter, n_trotter_step=1, kickback_phase=0.0):\n",
    "    #a_idx=2\n",
    "    for k in reversed(range(1, n_itter+1)):\n",
    "        qc = QuantumCircuit(n_qubits)\n",
    "        qc.x(0)\n",
    "        qc = IQPE_circuit(qc,np.array(g_list), tau, kickback_phase, k, n_trotter_step=n_trotter_step)\n",
    "        state=execute(qc,Aer.get_backend(\"statevector_simulator\")).result().get_statevector()\n",
    "        meas_0=meas_operator(n_qubits,2,0)\n",
    "        meas_1=meas_operator(n_qubits,2,1)\n",
    "        p0 = np.sum( (meas_0@state)**2 )\n",
    "        p1 = np.sum( (meas_1@state)**2 )\n",
    "        kth_digit = 1 if (p0 < p1) else 0\n",
    "        kickback_phase = 0.5 * kickback_phase + np.pi * 0.5 * kth_digit\n",
    "    return 2 * kickback_phase"
   ]
  },
  {
   "cell_type": "code",
   "execution_count": 6,
   "metadata": {
    "colab": {
     "base_uri": "https://localhost:8080/",
     "height": 246
    },
    "colab_type": "code",
    "executionInfo": {
     "elapsed": 34804,
     "status": "ok",
     "timestamp": 1592029155924,
     "user": {
      "displayName": "島津利音",
      "photoUrl": "",
      "userId": "05283225908521937995"
     },
     "user_tz": -540
    },
    "id": "El04k7TuNWH3",
    "outputId": "50ba9731-4e8f-44df-8560-8efeda8fac3c"
   },
   "outputs": [
    {
     "name": "stdout",
     "output_type": "stream",
     "text": [
      "e_trotter=-0.8602760326\n",
      "n_itter= 1, e_iqpe= -0.000000, error=8.60276e-01\n",
      "n_itter= 2, e_iqpe= -0.000000, error=8.60276e-01\n",
      "n_itter= 3, e_iqpe= -1.227185, error=3.66909e-01\n",
      "n_itter= 4, e_iqpe= -0.613592, error=2.46684e-01\n",
      "n_itter= 5, e_iqpe= -0.920388, error=6.01124e-02\n",
      "n_itter= 6, e_iqpe= -0.920388, error=6.01124e-02\n",
      "n_itter= 7, e_iqpe= -0.843689, error=1.65866e-02\n",
      "n_itter= 8, e_iqpe= -0.843689, error=1.65866e-02\n",
      "n_itter= 9, e_iqpe= -0.862864, error=2.58816e-03\n",
      "n_itter=10, e_iqpe= -0.862864, error=2.58816e-03\n",
      "n_itter=11, e_iqpe= -0.858071, error=2.20553e-03\n",
      "n_itter=12, e_iqpe= -0.860467, error=1.91316e-04\n"
     ]
    }
   ],
   "source": [
    "n_qubits = 3 \n",
    "g_list = [0.3593, 0.0896, -0.4826, 0.0896]\n",
    "tau = 0.640\n",
    "\n",
    "e_trotter = -0.8602760325707504 \n",
    "print(f\"e_trotter={e_trotter:.10f}\")\n",
    "\n",
    "result_list = []\n",
    "for n_itter in range(1, 12+1):\n",
    "    iqpe_phase = iterative_phase_estimation(g_list, tau, n_itter, n_trotter_step=1, kickback_phase=0.0)\n",
    "    e_iqpe = - iqpe_phase/tau\n",
    "    print(f\"n_itter={n_itter:2d}, e_iqpe={e_iqpe:10f}, error={np.abs(e_iqpe-e_trotter):.5e}\")\n",
    "    result_list.append([n_itter, e_iqpe])"
   ]
  },
  {
   "cell_type": "code",
   "execution_count": 7,
   "metadata": {
    "colab": {
     "base_uri": "https://localhost:8080/",
     "height": 302
    },
    "colab_type": "code",
    "executionInfo": {
     "elapsed": 1047,
     "status": "ok",
     "timestamp": 1592029160020,
     "user": {
      "displayName": "島津利音",
      "photoUrl": "",
      "userId": "05283225908521937995"
     },
     "user_tz": -540
    },
    "id": "8Rxh_lfGRcEx",
    "outputId": "95c3d43b-d25d-4759-d683-93785a30f155"
   },
   "outputs": [
    {
     "data": {
      "text/plain": [
       "<matplotlib.collections.PolyCollection at 0x7fa90629f3c8>"
      ]
     },
     "execution_count": 7,
     "metadata": {
      "tags": []
     },
     "output_type": "execute_result"
    },
    {
     "data": {
      "image/png": "[encoded data removed]",
      "text/plain": [
       "<Figure size 432x288 with 1 Axes>"
      ]
     },
     "metadata": {
      "needs_background": "light",
      "tags": []
     },
     "output_type": "display_data"
    }
   ],
   "source": [
    "result_array = np.array(result_list)\n",
    "plt.xlabel(\"# of digit\", fontsize=15)\n",
    "plt.ylabel(\"Error\", fontsize=15)\n",
    "plt.semilogy(result_array[:,0], np.abs(result_array[:,1] - e_trotter), \"bo-\")\n",
    "plt.xlim(0,13)\n",
    "plt.fill_between([0,13], 1.6e-3, color = \"lightgrey\")"
   ]
  },
  {
   "cell_type": "code",
   "execution_count": 0,
   "metadata": {
    "colab": {},
    "colab_type": "code",
    "id": "wSYxLzPATEoP"
   },
   "outputs": [],
   "source": []
  }
 ],
 "metadata": {
  "colab": {
   "collapsed_sections": [],
   "name": "7_1_phase_estiation.ipynb",
   "provenance": []
  },
  "kernelspec": {
   "display_name": "Python 3",
   "language": "python",
   "name": "python3"
  },
  "language_info": {
   "codemirror_mode": {
    "name": "ipython",
    "version": 3
   },
   "file_extension": ".py",
   "mimetype": "text/x-python",
   "name": "python",
   "nbconvert_exporter": "python",
   "pygments_lexer": "ipython3",
   "version": "3.7.7"
  }
 },
 "nbformat": 4,
 "nbformat_minor": 1
}
