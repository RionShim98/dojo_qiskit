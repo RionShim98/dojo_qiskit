{
 "cells": [
  {
   "cell_type": "code",
   "execution_count": null,
   "metadata": {},
   "outputs": [],
   "source": [
    "#!pip install qiskit"
   ]
  },
  {
   "cell_type": "code",
   "execution_count": 1,
   "metadata": {},
   "outputs": [],
   "source": [
    "import numpy as np\n",
    "import matplotlib.pyplot as plt\n",
    "from qiskit import IBMQ, QuantumCircuit, execute, Aer\n",
    "from qiskit.quantum_info import Pauli, Operator\n",
    "%matplotlib inline"
   ]
  },
  {
   "cell_type": "code",
   "execution_count": 2,
   "metadata": {},
   "outputs": [],
   "source": [
    "nqubits=6\n",
    "t=3.0\n",
    "M=100\n",
    "delta=t/M\n",
    "h=3.0"
   ]
  },
  {
   "cell_type": "code",
   "execution_count": 3,
   "metadata": {},
   "outputs": [],
   "source": [
    "mag_observable=np.zeros((2**nqubits,2**nqubits),dtype=\"complex128\")\n",
    "for i in range(nqubits):\n",
    "    z=[False]*nqubits\n",
    "    z[i]=True\n",
    "    mag_observable += Pauli(np.flip(z),[False]*nqubits).to_matrix()"
   ]
  },
  {
   "cell_type": "code",
   "execution_count": 4,
   "metadata": {},
   "outputs": [],
   "source": [
    "def trotter_circuit(M):\n",
    "    circuit_trotter=QuantumCircuit(nqubits)\n",
    "    for _ in range(M):\n",
    "        for i in range(nqubits):\n",
    "            circuit_trotter.cx(i,(i+1)%nqubits)\n",
    "            circuit_trotter.rz(-2*delta,(i+1)%nqubits)\n",
    "            circuit_trotter.cx(i,(i+1)%nqubits)\n",
    "            circuit_trotter.rx(-2*delta*h,i)\n",
    "    return circuit_trotter\n",
    "\n",
    "\n",
    "zz=np.zeros((2**nqubits,2**nqubits),dtype=\"complex128\")\n",
    "hx=np.zeros((2**nqubits,2**nqubits),dtype=\"complex128\")\n",
    "for i in range(nqubits):\n",
    "    z, x=[False]*nqubits, [False]*nqubits\n",
    "    z[i]=True; z[(i+1)%nqubits]=True; x[i]=True\n",
    "    zz+=Pauli(np.flip(z),[False]*nqubits).to_matrix()\n",
    "    hx+=h*Pauli([False]*nqubits,np.flip(x)).to_matrix()\n",
    "ham=hx+zz\n",
    "eigenvalue, P = np.linalg.eigh(np.array(ham)) \n",
    "e_iHdelta = np.diag(np.exp(-1.0j*eigenvalue*delta))\n",
    "e_iHdelta = np.dot(P, np.dot(e_iHdelta, P.T))\n",
    "\n",
    "def exact_circuit(M):\n",
    "    circuit_exact=QuantumCircuit(nqubits)\n",
    "    for _ in range(M):\n",
    "        circuit_exact.append(Operator(e_iHdelta), [j for j in range(nqubits)])\n",
    "    return circuit_exact\n",
    "\n",
    "x=[i*delta for i in range(M+1)]\n",
    "y_trotter=np.zeros(M+1)\n",
    "y_exact=np.zeros(M+1)\n",
    "\n",
    "backend=Aer.get_backend(\"statevector_simulator\")\n",
    "\n",
    "for i in range(M+1):\n",
    "    state_trotter=execute(trotter_circuit(i),backend).result().get_statevector()\n",
    "    state_exact=execute(exact_circuit(i),backend).result().get_statevector()\n",
    "    mag_trotter=np.dot(state_trotter.conj(),np.dot(mag_observable,state_trotter))\n",
    "    mag_exact=np.dot(state_exact.conj(),np.dot(mag_observable,state_exact))\n",
    "    y_trotter[i]=np.real(mag_trotter)\n",
    "    y_exact[i]=np.real(mag_exact)"
   ]
  },
  {
   "cell_type": "code",
   "execution_count": 5,
   "metadata": {},
   "outputs": [
    {
     "data": {
      "image/png": "[encoded data removed]",
      "text/plain": [
       "<Figure size 432x288 with 1 Axes>"
      ]
     },
     "metadata": {
      "needs_background": "light"
     },
     "output_type": "display_data"
    }
   ],
   "source": [
    "plt.xlabel(\"time\")\n",
    "plt.ylabel(\"Value of magnetization\")\n",
    "plt.title(\"Dynamics of transverse Ising model\")\n",
    "plt.plot(x, y_trotter, \"-\", label=\"Trotter\")\n",
    "plt.plot(x, y_exact, \"-\", label=\"exact\")\n",
    "plt.legend()\n",
    "plt.show()"
   ]
  },
  {
   "cell_type": "code",
   "execution_count": null,
   "metadata": {},
   "outputs": [],
   "source": []
  }
 ],
 "metadata": {
  "kernelspec": {
   "display_name": "Python 3",
   "language": "python",
   "name": "python3"
  },
  "language_info": {
   "codemirror_mode": {
    "name": "ipython",
    "version": 3
   },
   "file_extension": ".py",
   "mimetype": "text/x-python",
   "name": "python",
   "nbconvert_exporter": "python",
   "pygments_lexer": "ipython3",
   "version": "3.7.7"
  }
 },
 "nbformat": 4,
 "nbformat_minor": 4
}
